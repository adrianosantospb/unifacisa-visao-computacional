{
  "cells": [
    {
      "cell_type": "code",
      "metadata": {},
      "source": [
        "# ****************************************************************\n",
        "# AULA: Visão Computacional\n",
        "# Prof: Adriano A. Santos, DSc.\n",
        "# ****************************************************************\n",
        "import sys\n",
        "sys.path.append('../')\n",
        "import util\n",
        "\n",
        "import argparse\n",
        "import logging\n",
        "from tqdm import tqdm\n",
        "import sys\n",
        "import datetime\n",
        "import os\n",
        "\n",
        "# Variaveis\n",
        "arquivo_base = \"./dataset_com_classes.csv\"\n",
        "\n",
        "arquivos = [\"treinamento\", \"validacao\", \"teste\"]\n",
        "\n",
        "# Inicia log\n",
        "logging.basicConfig(level=logging.DEBUG)\n"
      ],
      "outputs": [],
      "execution_count": 1
    },
    {
      "cell_type": "code",
      "execution_count": 2,
      "metadata": {
        "tags": []
      },
      "outputs": [
        {
          "output_type": "stream",
          "name": "stderr",
          "text": "INFO:root:Iniciando processo em: 2020-09-04 23:55:40.985277\nINFO:root:Tempo de processamento: 0.015682\n"
        }
      ],
      "source": [
        "# Obtem informacoes para avaliar o tempo de processamento\n",
        "inicio = datetime.datetime.now()\n",
        "logging.info(\"Iniciando processo em: {}\".format(inicio))\n",
        "\n",
        "# Obtem dados separados\n",
        "treinamento,validacao,teste = util.obtemDataSet(arquivo_base)\n",
        "dados = [treinamento,validacao,teste]\n",
        "\n",
        "try:\n",
        "    for i, tipo in enumerate(arquivos):\n",
        "        arquivo = \"./dados_de_{}.txt\".format(tipo) \n",
        "        with open (arquivo, \"w\") as arquivo_de_dados:\n",
        "            l, c = dados[i].shape\n",
        "            for j in range(l):\n",
        "                linha = \" \".join(str(item) for item in dados[i][j])\n",
        "                arquivo_de_dados.write(\"{}\\n\".format(linha))\n",
        "except:\n",
        "    logging.error(\"Erro ao processar criacao de arquivo de dados.\")\n",
        "    sys.exit()\n",
        "\n",
        "# Fim de processo\n",
        "fim = datetime.datetime.now()\n",
        "tempo_de_processamento = (fim-inicio).total_seconds()\n",
        "logging.info(\"Tempo de processamento: {}\".format(str(tempo_de_processamento)))"
      ]
    }
  ],
  "metadata": {
    "anaconda-cloud": {},
    "kernelspec": {
      "display_name": "Python 3.7.9 64-bit ('especializacao': conda)",
      "language": "python",
      "name": "python37964bitespecializacaocondabf03fad2cbc44dc4af89bd01e774ce56"
    },
    "language_info": {
      "codemirror_mode": {
        "name": "ipython",
        "version": 3
      },
      "file_extension": ".py",
      "mimetype": "text/x-python",
      "name": "python",
      "nbconvert_exporter": "python",
      "pygments_lexer": "ipython3",
      "version": "3.7.9-final"
    }
  },
  "nbformat": 4,
  "nbformat_minor": 4
}