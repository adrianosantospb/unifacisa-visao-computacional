{
  "cells": [
    {
      "cell_type": "code",
      "metadata": {},
      "source": [
        "# ****************************************************************\n",
        "# AULA: Visão Computacional\n",
        "# Prof: Adriano A. Santos, DSc.\n",
        "# ****************************************************************\n",
        "import sys\n",
        "sys.path.append('../')\n",
        "import util\n",
        "\n",
        "import cv2\n",
        "import os\n",
        "import numpy as np\n",
        "import random\n",
        "\n",
        "# Obtem imagem\n",
        "img_path = \"../../dataset/raposa.jpg\"\n",
        "img = cv2.imread(img_path)\n",
        "\n",
        "# Define cor para criacao das caixas\n",
        "color = (255, 0, 0) \n",
        "\n",
        "# Obtem altura e largura da imagem\n",
        "(H, W) = img.shape[:2]\n",
        "\n",
        "# Obtem anotacoes\n",
        "lines = util.obtemLinhas(img_path.replace(\".jpg\", \".txt\"))\n",
        "annots = [item for item in lines]\n",
        "\n",
        "# Para cada anotacao, crie uma caixa\n",
        "# TODO: Atividade - Toda a logica de conversao deve ficar no modulo util.\n",
        "\n",
        "for i, annt in enumerate(annots):\n",
        "    # Obtem coordenadas da caixa\n",
        "    box = annt.split()\n",
        "\n",
        "    # Obtem categoria\n",
        "    cat = int(box[0])\n",
        "\n",
        "    # Obtem as dimensoes w, h, x, y de cada caixa\n",
        "    w = float(box[3])\n",
        "    h = float(box[4])\n",
        "    x = float(box[1]) \n",
        "    y = float(box[2])\n",
        "\n",
        "    # Obtem os pontos iniciais\n",
        "    x = x - w / 2\n",
        "    y = y - h / 2\n",
        "\n",
        "    # Ajusta as metricas de acordo com o valor da altura e largura da imagem\n",
        "    x = int(x * W)\n",
        "    w = int(w * W)\n",
        "    y = int(y * H)\n",
        "    h = int(h * H)\n",
        "\n",
        "    # Conversao final das medidas w,h,x,y para x1,x2,y1,y2\n",
        "    x1, x2, y1, y2 = [x, x+w, y, y+h]\n",
        "    \n",
        "    # Desenha o retangulo\n",
        "    cv2.rectangle(img,(x1, y1), (x2, y2), color ,2)\n",
        "\n",
        "cv2.imshow('Imagem anotada',img)\n",
        "cv2.waitKey(0)\n",
        "cv2.destroyAllWindows()\n",
        "\n",
        "\n"
      ],
      "outputs": [],
      "execution_count": 1
    },
    {
      "cell_type": "code",
      "execution_count": 4,
      "metadata": {
        "tags": []
      },
      "outputs": [
        {
          "output_type": "stream",
          "name": "stdout",
          "text": "Requirement already satisfied: opencv-python in /home/adriano/anaconda3/envs/especializacao/lib/python3.7/site-packages (4.4.0.42)\nRequirement already satisfied: opencv-contrib-python in /home/adriano/anaconda3/envs/especializacao/lib/python3.7/site-packages (4.4.0.42)\nRequirement already satisfied: numpy>=1.14.5 in /home/adriano/anaconda3/envs/especializacao/lib/python3.7/site-packages (from opencv-python) (1.19.1)\n"
        }
      ],
      "source": [
        "!pip install opencv-python opencv-contrib-python"
      ]
    }
  ],
  "metadata": {
    "anaconda-cloud": {},
    "kernelspec": {
      "display_name": "Python 3.7.9 64-bit ('especializacao': conda)",
      "language": "python",
      "name": "python37964bitespecializacaocondabf03fad2cbc44dc4af89bd01e774ce56"
    },
    "language_info": {
      "codemirror_mode": {
        "name": "ipython",
        "version": 3
      },
      "file_extension": ".py",
      "mimetype": "text/x-python",
      "name": "python",
      "nbconvert_exporter": "python",
      "pygments_lexer": "ipython3",
      "version": "3.7.9-final"
    }
  },
  "nbformat": 4,
  "nbformat_minor": 4
}