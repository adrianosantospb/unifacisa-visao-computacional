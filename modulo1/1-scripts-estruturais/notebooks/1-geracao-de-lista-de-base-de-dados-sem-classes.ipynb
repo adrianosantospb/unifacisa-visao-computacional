{
  "cells": [
    {
      "cell_type": "code",
      "metadata": {
        "tags": []
      },
      "source": [
        "# ****************************************************************\n",
        "# AULA: Visão Computacional\n",
        "# Prof: Adriano A. Santos, DSc.\n",
        "# ****************************************************************\n",
        "import sys\n",
        "sys.path.append('../')\n",
        "\n",
        "import argparse\n",
        "import logging\n",
        "import util\n",
        "from tqdm import tqdm\n",
        "import sys\n",
        "import datetime"
      ],
      "outputs": [],
      "execution_count": 28
    },
    {
      "cell_type": "code",
      "execution_count": 30,
      "metadata": {
        "tags": []
      },
      "outputs": [
        {
          "output_type": "stream",
          "name": "stdout",
          "text": "40\n"
        }
      ],
      "source": [
        "# Variaveis\n",
        "diretorio_base = \"../../dataset/dogs_cats/\"\n",
        "tipo = \"png\"\n",
        "arquivos = util.obtemTodosOsArquivos(diretorio_base,tipo, True)\n",
        "dataset = \"./dataset_sem_classes.csv\"\n",
        "\n",
        "# Inicia log\n",
        "logging.basicConfig(level=logging.DEBUG)\n",
        "\n",
        "print(len(arquivos))"
      ]
    },
    {
      "cell_type": "code",
      "execution_count": 31,
      "metadata": {
        "tags": []
      },
      "outputs": [
        {
          "output_type": "stream",
          "name": "stderr",
          "text": "INFO:root:Iniciando processo em: 2020-09-04 23:53:25.489676\n100%|██████████| 40/40 [00:00<00:00, 42864.63it/s]\nINFO:root:Tempo de processamento: 0.008326\n"
        }
      ],
      "source": [
        "if len(arquivos) > 0:\n",
        "    # Obtem informacoes para avaliar o tempo de processamento\n",
        "    inicio = datetime.datetime.now()\n",
        "    logging.info(\"Iniciando processo em: {}\".format(inicio))\n",
        "    try:\n",
        "        with open (dataset, \"w\") as arquivo_de_dados:\n",
        "            for index, arquivo in tqdm(enumerate(arquivos), total=len(arquivos)): # Cria barra de progressao\n",
        "                arquivo_de_dados.write(\"{}\\n\".format(arquivo))\n",
        "    except:\n",
        "        logging.error(\"Erro ao processar criacao de arquivo de dados.\")\n",
        "        sys.exit()\n",
        "\n",
        "    # Fim de processo\n",
        "    fim = datetime.datetime.now()\n",
        "    tempo_de_processamento = (fim-inicio).total_seconds()\n",
        "    logging.info(\"Tempo de processamento: {}\".format(str(tempo_de_processamento)))\n"
      ]
    }
  ],
  "metadata": {
    "anaconda-cloud": {},
    "kernelspec": {
      "display_name": "Python 3.7.9 64-bit ('especializacao': conda)",
      "language": "python",
      "name": "python37964bitespecializacaocondabf03fad2cbc44dc4af89bd01e774ce56"
    },
    "language_info": {
      "codemirror_mode": {
        "name": "ipython",
        "version": 3
      },
      "file_extension": ".py",
      "mimetype": "text/x-python",
      "name": "python",
      "nbconvert_exporter": "python",
      "pygments_lexer": "ipython3",
      "version": "3.7.9-final"
    }
  },
  "nbformat": 4,
  "nbformat_minor": 4
}