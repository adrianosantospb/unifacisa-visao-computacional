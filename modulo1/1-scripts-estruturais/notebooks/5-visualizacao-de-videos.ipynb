{
  "cells": [
    {
      "cell_type": "code",
      "metadata": {},
      "source": [
        "# ****************************************************************\n",
        "# AULA: Visão Computacional\n",
        "# Prof: Adriano A. Santos, DSc.\n",
        "# ****************************************************************\n",
        "\n",
        "import cv2\n",
        "import time\n",
        "\n",
        "video = '../../dataset/file_example_MP4_1920_18MG.mp4'\n",
        "\n",
        "# Instancia objeto de manipulacao de videos\n",
        "# Obs: se for a camera, defina a posicao. Ex: 0\n",
        "camera = cv2.VideoCapture(video)\n",
        "\n",
        "# Enquanto existir frames\n",
        "while camera.isOpened:\n",
        "    # Get the current frame and the status\n",
        "    status, frame = camera.read()\n",
        "\n",
        "    # Stop condition\n",
        "    key = cv2.waitKey(1) & 0xFF\n",
        "\n",
        "    # Controle de execucao\n",
        "    if (status == False or key == ord(\"q\")):\n",
        "        break\n",
        "    \n",
        "    # Visualiza o frame\n",
        "    cv2.imshow(\"Frame\", frame)\n",
        "    time.sleep(0.02) # Controle da velocidade de execucao do video.\n",
        "\n",
        "camera.release()\n",
        "cv2.destroyAllWindows()"
      ],
      "outputs": [],
      "execution_count": 1
    }
  ],
  "metadata": {
    "anaconda-cloud": {},
    "kernelspec": {
      "display_name": "Python 3.7.9 64-bit ('especializacao': conda)",
      "language": "python",
      "name": "python37964bitespecializacaocondabf03fad2cbc44dc4af89bd01e774ce56"
    },
    "language_info": {
      "codemirror_mode": {
        "name": "ipython",
        "version": 3
      },
      "file_extension": ".py",
      "mimetype": "text/x-python",
      "name": "python",
      "nbconvert_exporter": "python",
      "pygments_lexer": "ipython3",
      "version": "3.7.9-final"
    }
  },
  "nbformat": 4,
  "nbformat_minor": 4
}