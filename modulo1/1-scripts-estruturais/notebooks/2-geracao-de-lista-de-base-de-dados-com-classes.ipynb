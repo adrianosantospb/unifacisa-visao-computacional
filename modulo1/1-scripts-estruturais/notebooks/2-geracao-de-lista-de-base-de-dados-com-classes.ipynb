{
  "cells": [
    {
      "cell_type": "code",
      "metadata": {},
      "source": [
        "# ****************************************************************\n",
        "# AULA: Visão Computacional\n",
        "# Prof: Adriano A. Santos, DSc.\n",
        "# ****************************************************************\n",
        "\n",
        "import sys\n",
        "sys.path.append('../')\n",
        "import util\n",
        "import argparse\n",
        "import logging\n",
        "from tqdm import tqdm\n",
        "import sys\n",
        "import datetime\n",
        "import os\n",
        "\n",
        "# Variaveis\n",
        "diretorio_base = \"../../dataset/dogs_cats/\"\n",
        "dataset = \"./dataset_com_classes.csv\"\n",
        "tipo = \"png\"\n",
        "\n",
        "# Inicia log\n",
        "logging.basicConfig(level=logging.DEBUG)"
      ],
      "outputs": [],
      "execution_count": 2
    },
    {
      "cell_type": "code",
      "execution_count": 3,
      "metadata": {
        "tags": []
      },
      "outputs": [
        {
          "output_type": "stream",
          "name": "stderr",
          "text": "INFO:root:Iniciando processo em: 2020-09-04 23:54:41.945382\n100%|██████████| 20/20 [00:00<00:00, 107.91it/s]\n100%|██████████| 20/20 [00:00<00:00, 118.09it/s]\nINFO:root:Tempo de processamento: 0.365973\n"
        }
      ],
      "source": [
        "# Obtem informacoes para avaliar o tempo de processamento\n",
        "inicio = datetime.datetime.now()\n",
        "logging.info(\"Iniciando processo em: {}\".format(inicio))\n",
        "try:\n",
        "    # Obtem todos os diretorio apartir de um diretorio base\n",
        "    diretorios = util.obtemTodosOsDiretorio(diretorio_base)\n",
        "    # Cria um conjunto de classes a partir dos de um diretorio base\n",
        "    classes = [diretorio for diretorio in diretorios]\n",
        "\n",
        "    with open (dataset, \"w\") as arquivo_de_dados:\n",
        "        for i, classe in enumerate(classes):\n",
        "            # Para cada classe, obtenha os dados correspondentes\n",
        "            diretorio = os.path.join(diretorio_base,classe)\n",
        "            \n",
        "            arquivos = util.obtemTodosOsArquivos(diretorio, tipo, False)\n",
        "\n",
        "            for _, arquivo in tqdm(enumerate(arquivos), total=len(arquivos)): # Cria barra de progressao\n",
        "                \n",
        "                h, w = util.obterLarguraAltura(arquivo)\n",
        "                # Formacao ( caminho, w, h, classe)\n",
        "                arquivo_de_dados.write(\"{};{};{};{}\\n\".format(arquivo,w, h, i))\n",
        "except:\n",
        "    logging.error(\"Erro ao processar criacao de arquivo de dados.\")\n",
        "    sys.exit()\n",
        "\n",
        "# Fim de processo\n",
        "fim = datetime.datetime.now()\n",
        "tempo_de_processamento = (fim-inicio).total_seconds()\n",
        "logging.info(\"Tempo de processamento: {}\".format(str(tempo_de_processamento)))"
      ]
    }
  ],
  "metadata": {
    "anaconda-cloud": {},
    "kernelspec": {
      "display_name": "Python 3.7.9 64-bit ('especializacao': conda)",
      "language": "python",
      "name": "python37964bitespecializacaocondabf03fad2cbc44dc4af89bd01e774ce56"
    },
    "language_info": {
      "codemirror_mode": {
        "name": "ipython",
        "version": 3
      },
      "file_extension": ".py",
      "mimetype": "text/x-python",
      "name": "python",
      "nbconvert_exporter": "python",
      "pygments_lexer": "ipython3",
      "version": "3.7.9-final"
    }
  },
  "nbformat": 4,
  "nbformat_minor": 4
}